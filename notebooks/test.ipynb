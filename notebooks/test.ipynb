{
 "cells": [
  {
   "attachments": {},
   "cell_type": "markdown",
   "metadata": {},
   "source": [
    "# Test Notebook"
   ]
  },
  {
   "attachments": {},
   "cell_type": "markdown",
   "metadata": {},
   "source": [
    "## Imports"
   ]
  },
  {
   "attachments": {},
   "cell_type": "markdown",
   "metadata": {},
   "source": [
    "Importing basic Libraries/modules. If not installed, you can see to how to install [here](https://github.com/metarex21/Alzheimer-Prediction/tree/main#requirements) in the requirements section."
   ]
  },
  {
   "cell_type": "code",
   "execution_count": 13,
   "metadata": {},
   "outputs": [],
   "source": [
    "# Importing TensorFlow and Keras modules\n",
    "import tensorflow as tf\n",
    "from tensorflow import keras\n",
    "from tensorflow.keras.preprocessing.image import ImageDataGenerator\n",
    "from tensorflow.keras.layers import (\n",
    "    BatchNormalization, Concatenate, Conv2D, Dense, Dropout, Flatten,\n",
    "    GaussianNoise, GlobalAveragePooling2D, Input, MaxPooling2D, Rescaling,\n",
    "    Resizing, SeparableConv2D)\n",
    "import tensorflow.keras.layers as layers\n",
    "from keras.callbacks import EarlyStopping, ReduceLROnPlateau\n",
    "\n",
    "# Importing data processing and visualization modules\n",
    "import numpy as np\n",
    "import seaborn as sns\n",
    "import matplotlib.pyplot as plt\n",
    "%matplotlib inline\n",
    "\n",
    "# Importing scikit-learn modules\n",
    "from sklearn.metrics import confusion_matrix\n",
    "\n",
    "# Importing miscellaneous modules\n",
    "import random\n",
    "import time"
   ]
  },
  {
   "attachments": {},
   "cell_type": "markdown",
   "metadata": {},
   "source": [
    "## Loading The Model"
   ]
  },
  {
   "cell_type": "code",
   "execution_count": 14,
   "metadata": {},
   "outputs": [],
   "source": [
    "model = keras.models.load_model('D:/GitHub/Alzheimer-Prediction/model.h5')"
   ]
  },
  {
   "attachments": {},
   "cell_type": "markdown",
   "metadata": {},
   "source": [
    "## Constraints\n"
   ]
  },
  {
   "cell_type": "code",
   "execution_count": 15,
   "metadata": {},
   "outputs": [],
   "source": [
    "batch_size = 32\n",
    "img_height = 220\n",
    "img_width = 220\n",
    "seed = 42"
   ]
  },
  {
   "attachments": {},
   "cell_type": "markdown",
   "metadata": {},
   "source": [
    "## Loading Test Data"
   ]
  },
  {
   "cell_type": "code",
   "execution_count": 16,
   "metadata": {},
   "outputs": [
    {
     "name": "stdout",
     "output_type": "stream",
     "text": [
      "Found 1279 files belonging to 4 classes.\n"
     ]
    }
   ],
   "source": [
    "test_data = tf.keras.utils.image_dataset_from_directory(\n",
    "    \"D:/GitHub/Alzheimer-Prediction/test dataset\",\n",
    "    image_size=(img_height, img_width),\n",
    "    batch_size=batch_size\n",
    ")\n"
   ]
  },
  {
   "cell_type": "code",
   "execution_count": 17,
   "metadata": {},
   "outputs": [
    {
     "name": "stdout",
     "output_type": "stream",
     "text": [
      "4 classes: ['MildDemented', 'ModerateDemented', 'NonDemented', 'VeryMildDemented']\n"
     ]
    }
   ],
   "source": [
    "class_names = test_data.class_names\n",
    "num_classes = len(class_names)\n",
    "\n",
    "print(f'{num_classes} classes: {class_names}')"
   ]
  },
  {
   "cell_type": "code",
   "execution_count": 18,
   "metadata": {},
   "outputs": [],
   "source": [
    "AUTOTUNE = tf.data.AUTOTUNEAUTOTUNE = tf.data.AUTOTUNE\n",
    "test_data = test_data.cache().prefetch(buffer_size=AUTOTUNE)\n"
   ]
  },
  {
   "cell_type": "code",
   "execution_count": 19,
   "metadata": {},
   "outputs": [
    {
     "name": "stdout",
     "output_type": "stream",
     "text": [
      "40/40 [==============================] - 18s 441ms/step - loss: 0.1031 - accuracy: 0.9656\n",
      "Test loss: 0.1031\n",
      "Test accuracy: 0.9656\n",
      "Number of misclassified images: 44 of 1280\n"
     ]
    }
   ],
   "source": [
    "# Evaluating the model\n",
    "loss, accuracy = model.evaluate(test_data)\n",
    "\n",
    "# Calculate the number of misclassified images\n",
    "num_misclassified = int((1 - accuracy) * len(test_data) * batch_size)\n",
    "\n",
    "# Printing the results\n",
    "print(f\"Test loss: {loss:.4f}\")\n",
    "print(f\"Test accuracy: {accuracy:.4f}\")\n",
    "print(f\"Number of misclassified images: {num_misclassified} of {len(test_data) * batch_size}\")"
   ]
  },
  {
   "cell_type": "code",
   "execution_count": 20,
   "metadata": {},
   "outputs": [],
   "source": [
    "# Initializing empty lists to store images and labels\n",
    "test_images = []\n",
    "test_labels = []\n",
    "\n",
    "# Iterating through the test dataset and append each batch to a list\n",
    "for batch in test_data.as_numpy_iterator():\n",
    "    test_images.append(batch[0])\n",
    "    test_labels.append(batch[1])\n",
    "\n",
    "# Concatenating the batches into a single array for both images and labels\n",
    "test_images = np.concatenate(test_images, axis=0)\n",
    "test_labels = np.concatenate(test_labels, axis=0)"
   ]
  },
  {
   "cell_type": "code",
   "execution_count": 21,
   "metadata": {},
   "outputs": [
    {
     "name": "stdout",
     "output_type": "stream",
     "text": [
      "40/40 [==============================] - 18s 451ms/step\n"
     ]
    }
   ],
   "source": [
    "y_pred = np.array(model.predict(test_images))\n",
    "y_true = np.array(test_labels)"
   ]
  },
  {
   "attachments": {},
   "cell_type": "markdown",
   "metadata": {},
   "source": [
    "### Getting most probable label for an image from test dataset"
   ]
  },
  {
   "cell_type": "code",
   "execution_count": 22,
   "metadata": {},
   "outputs": [
    {
     "name": "stdout",
     "output_type": "stream",
     "text": [
      "40/40 [==============================] - 17s 425ms/step\n"
     ]
    }
   ],
   "source": [
    "# Using the trained model to predict the labels for the test images\n",
    "y_pred = model.predict(test_images)\n",
    "\n",
    "# Converting the predicted probabilities to class labels\n",
    "y_pred = tf.argmax(y_pred, axis=1).numpy()"
   ]
  }
 ],
 "metadata": {
  "kernelspec": {
   "display_name": "Python 3",
   "language": "python",
   "name": "python3"
  },
  "language_info": {
   "codemirror_mode": {
    "name": "ipython",
    "version": 3
   },
   "file_extension": ".py",
   "mimetype": "text/x-python",
   "name": "python",
   "nbconvert_exporter": "python",
   "pygments_lexer": "ipython3",
   "version": "3.11.1"
  },
  "orig_nbformat": 4
 },
 "nbformat": 4,
 "nbformat_minor": 2
}
