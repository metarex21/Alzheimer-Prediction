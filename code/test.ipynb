{
 "cells": [
  {
   "cell_type": "markdown",
   "metadata": {},
   "source": [
    "## Imports"
   ]
  },
  {
   "cell_type": "markdown",
   "metadata": {},
   "source": [
    "Importing basic Libraries/modules. If not installed, you can see to how to install [here](https://github.com/metarex21/Alzheimer-Prediction/tree/main#requirements) in the requirements section."
   ]
  },
  {
   "cell_type": "code",
   "execution_count": 1,
   "metadata": {},
   "outputs": [],
   "source": [
    "# Importing TensorFlow and Keras modules\n",
    "import tensorflow as tf\n",
    "from tensorflow import keras\n",
    "from tensorflow.keras.preprocessing.image import ImageDataGenerator\n",
    "from tensorflow.keras.layers import (\n",
    "    BatchNormalization, Concatenate, Conv2D, Dense, Dropout, Flatten,\n",
    "    GaussianNoise, GlobalAveragePooling2D, Input, MaxPooling2D, Rescaling,\n",
    "    Resizing, SeparableConv2D)\n",
    "import tensorflow.keras.layers as layers\n",
    "from keras.callbacks import EarlyStopping, ReduceLROnPlateau\n",
    "\n",
    "# Importing data processing and visualization modules\n",
    "import numpy as np\n",
    "import seaborn as sns\n",
    "import matplotlib.pyplot as plt\n",
    "%matplotlib inline\n",
    "\n",
    "# Importing scikit-learn modules\n",
    "from sklearn.metrics import confusion_matrix\n",
    "\n",
    "# Importing miscellaneous modules\n",
    "import random\n",
    "import time"
   ]
  },
  {
   "attachments": {},
   "cell_type": "markdown",
   "metadata": {},
   "source": [
    "## Loading The Model"
   ]
  },
  {
   "cell_type": "code",
   "execution_count": 4,
   "metadata": {},
   "outputs": [],
   "source": [
    "model = keras.models.load_model('D:/GitHub/Alzheimer-Prediction/model')"
   ]
  },
  {
   "cell_type": "code",
   "execution_count": null,
   "metadata": {},
   "outputs": [],
   "source": [
    "# Define the path to your dataset directory\n",
    "dataset_dir = \"path/to/your/dataset/directory\"\n",
    "\n",
    "# Define the image size and batch size\n",
    "img_height = 220\n",
    "img_width = 220\n",
    "batch_size = 32\n",
    "\n",
    "# Create an ImageDataGenerator and specify the desired preprocessing options\n",
    "data_generator = ImageDataGenerator(rescale=1./255)\n",
    "\n",
    "# Load and preprocess the images from the dataset directory\n",
    "new_data = data_generator.flow_from_directory(\n",
    "    dataset_dir,\n",
    "    target_size=(img_height, img_width),\n",
    "    batch_size=batch_size,\n",
    "    class_mode='categorical'  # Adjust the class_mode based on your dataset labels\n",
    ")\n"
   ]
  }
 ],
 "metadata": {
  "kernelspec": {
   "display_name": "Python 3",
   "language": "python",
   "name": "python3"
  },
  "language_info": {
   "codemirror_mode": {
    "name": "ipython",
    "version": 3
   },
   "file_extension": ".py",
   "mimetype": "text/x-python",
   "name": "python",
   "nbconvert_exporter": "python",
   "pygments_lexer": "ipython3",
   "version": "3.11.1"
  },
  "orig_nbformat": 4
 },
 "nbformat": 4,
 "nbformat_minor": 2
}
