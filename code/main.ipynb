{
 "cells": [
  {
   "cell_type": "code",
   "execution_count": null,
   "metadata": {},
   "outputs": [],
   "source": [
    "# Import TensorFlow and Keras modules\n",
    "import tensorflow as tf\n",
    "from tensorflow import keras\n",
    "from tensorflow.keras.layers import (\n",
    "    BatchNormalization, Concatenate, Conv2D, Dense, Dropout, Flatten,\n",
    "    GaussianNoise, GlobalAveragePooling2D, Input, MaxPooling2D, Rescaling,\n",
    "    Resizing, SeparableConv2D)\n",
    "import tensorflow.keras.layers as layers\n",
    "from keras.callbacks import EarlyStopping, ReduceLROnPlateau\n",
    "\n",
    "# Import data processing and visualization modules\n",
    "import numpy as np\n",
    "import seaborn as sns\n",
    "import matplotlib.pyplot as plt\n",
    "%matplotlib inline\n",
    "\n",
    "# Import scikit-learn modules\n",
    "from sklearn.metrics import confusion_matrix\n",
    "\n",
    "# Import miscellaneous modules\n",
    "import random\n",
    "import time"
   ]
  }
 ],
 "metadata": {
  "language_info": {
   "name": "python"
  },
  "orig_nbformat": 4
 },
 "nbformat": 4,
 "nbformat_minor": 2
}
